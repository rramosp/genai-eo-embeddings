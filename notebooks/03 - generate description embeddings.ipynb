{
 "cells": [
  {
   "cell_type": "code",
   "execution_count": 1,
   "id": "2cbff316-150d-4a2c-8b5c-703aa924196f",
   "metadata": {},
   "outputs": [
    {
     "name": "stderr",
     "output_type": "stream",
     "text": [
      "/home/raulramos/conda/envs/lunarlab-env/lib/python3.13/site-packages/tqdm/auto.py:21: TqdmWarning: IProgress not found. Please update jupyter and ipywidgets. See https://ipywidgets.readthedocs.io/en/stable/user_install.html\n",
      "  from .autonotebook import tqdm as notebook_tqdm\n"
     ]
    }
   ],
   "source": [
    "import sys\n",
    "sys.path.append('../src')\n",
    "\n",
    "import os\n",
    "import pickle\n",
    "import numpy as np\n",
    "from importlib import reload\n",
    "from glob import glob\n",
    "from joblib import Parallel, delayed\n",
    "from IPython.display import Markdown\n",
    "\n",
    "from geoq import gemini\n"
   ]
  },
  {
   "cell_type": "markdown",
   "id": "901b35c8-50d4-48c1-a3a9-22a18f22d4ba",
   "metadata": {},
   "source": [
    "## Embeddings of a random chip"
   ]
  },
  {
   "cell_type": "code",
   "execution_count": 2,
   "id": "63cf4f56-d90b-4dc5-b747-4977712b7f63",
   "metadata": {},
   "outputs": [
    {
     "data": {
      "text/plain": [
       "48313"
      ]
     },
     "execution_count": 2,
     "metadata": {},
     "output_type": "execute_result"
    }
   ],
   "source": [
    "descriptions_dir = '/datasets/genai-geo-embeddings/chips'\n",
    "files = glob(f'{descriptions_dir}/*.pkl')\n",
    "len(files)"
   ]
  },
  {
   "cell_type": "code",
   "execution_count": 3,
   "id": "ba8f064f-9a5a-46c5-8c0d-6ae046414821",
   "metadata": {},
   "outputs": [
    {
     "data": {
      "text/markdown": [
       "Here is a detailed textual description of the satellite image.\n",
       "\n",
       "### Dominant Land Cover\n",
       "The image is dominated by a mixture of agricultural and barren land.\n",
       "*   **Agricultural Land:** Covers approximately 60% of the image. It is characterized by a patchwork of rectangular fields, most of which are a reddish-brown or dark brown color, suggesting fallow or dry soil. A significant portion of these fields, particularly in the eastern half, are stark white.\n",
       "*   **Barren/Desert Land:** Constitutes about 35% of the view. This land is light tan or beige in color with a soft texture, appearing as sand or dry, eroded soil. It is most prominent in a large, irregular swath on the right side of the image and in patches encroaching on the agricultural areas.\n",
       "*   **Water Bodies / Salt Flats:** Make up the remaining 5%, visible as small, scattered features.\n",
       "\n",
       "### Terrain\n",
       "The terrain is predominantly a flat plain, characteristic of a river valley or an alluvial fan in an arid region. There are no significant elevations like mountains or hills. The main topographical variation comes from:\n",
       "*   **Type:** Low-lying sandy areas, possibly small dunes or aeolian deposits.\n",
       "*   **Location:** These features are most concentrated in a wide, irregular band running from the bottom-center towards the upper-right. They also appear as smaller incursions into the agricultural land from the edges.\n",
       "*   **Shape and Attributes:** The sandy areas have soft, rounded, and sometimes lobe-like shapes that contrast sharply with the geometric agricultural grid. Their texture appears fine-grained and wind-swept.\n",
       "\n",
       "### Vegetation\n",
       "Visible vegetation is almost exclusively agricultural, with very little natural vegetation apparent.\n",
       "*   **Type:** Cultivated fields.\n",
       "*   **Location:** The fields are organized in a grid-like pattern across most of the image, except for the large barren swath on the right.\n",
       "*   **Extent:** The patchwork is dense, with fields of various rectangular sizes.\n",
       "*   **Health and Appearance:** The majority of the fields are reddish-brown, indicating they are likely fallow, recently tilled, or contain dry vegetation. There is no visible lush green vegetation.\n",
       "*   **Patterns:** The most distinctive pattern is the presence of numerous bright white rectangular plots. These are likely plastic-covered greenhouses or fields with heavy salt encrustation (salinization).\n",
       "\n",
       "### Water Bodies\n",
       "Water features are small and sparse.\n",
       "*   **Type:** Small ponds or salt flats.\n",
       "*   **Location:** The most distinct feature is located in the upper-central part of the image. It has a small area of turquoise-green water surrounded by a larger, bright white crust, indicative of a salt pan or evaporation pond. Other smaller, irregularly shaped white patches scattered across the landscape may be ephemeral water bodies or salt deposits.\n",
       "*   **Type:** A narrow canal or drainage channel.\n",
       "*   **Location:** A thin, dark, meandering line can be seen winding from the central area towards the upper right, crossing through both agricultural and barren lands.\n",
       "\n",
       "### Man-Made Structures\n",
       "Human activity is extensive and clearly defines the landscape.\n",
       "*   **Type:** Agricultural infrastructure (fields, greenhouses/salt pans, canals).\n",
       "*   **Location:** The rectangular fields form a widespread grid. The bright white rectangular plots (likely greenhouses) are particularly concentrated in the eastern half of the image.\n",
       "*   **Arrangement:** The fields create a distinct rectilinear pattern.\n",
       "*   **Type:** Transportation corridor and settlement.\n",
       "*   **Location:** A prominent, dense, linear feature runs vertically through the center of the image. This appears to be a primary road or canal lined with a dense concentration of small buildings, greenhouses, or other structures. A small, more clustered settlement is visible on the far-left edge of the frame. A much thinner road or track cuts diagonally across the upper-right quadrant.\n",
       "\n",
       "### Geological Features\n",
       "*   **Type:** Aeolian (wind-blown) deposits.\n",
       "*   **Location:** These sandy deposits form the large, light-tan areas, most notably on the right side of the image.\n",
       "*   **Shape, Color, and Texture:** They are light tan with a soft, mounded texture, appearing to encroach upon the darker, developed agricultural land.\n",
       "*   **Type:** Soil Salinization.\n",
       "*   **Location:** Evidenced by the bright white crusts around the water body in the upper-center and potentially on the surface of many rectangular fields. This is a common geological process in arid, irrigated regions.\n",
       "\n",
       "### Other Distinctive Features\n",
       "The image starkly illustrates the interaction and conflict between human land use and a natural arid environment. There is a clear demarcation between the intensively cultivated and irrigated areas (brown and white plots) and the encroaching tan-colored desert. The central, heavily developed vertical corridor acts as a spine of human activity within this landscape.\n",
       "\n",
       "---\n",
       "### Coverage estimation\n",
       "```json\n",
       "{\n",
       "  \"Agricultural Land (brown soil)\": \"45%\",\n",
       "  \"Barren/Sandy Land\": \"35%\",\n",
       "  \"Agricultural Land (white plots/greenhouses)\": \"15%\",\n",
       "  \"Water Bodies/Salt Flats\": \"5%\"\n",
       "}\n",
       "```\n",
       "### Geographical location\n",
       "```json\n",
       "{\n",
       "    \"plus_code\": \"6GQX+P2\",\n",
       "    \"political\": \"Xinhe County, Xinjiang\",\n",
       "    \"locality\": \"Aksu Prefecture\",\n",
       "    \"administrative_area_level_1\": \"Xinjiang\",\n",
       "    \"country\": \"China\",\n",
       "    \"coords\": {\n",
       "        \"lon\": \"82.5475\",\n",
       "        \"lat\": \"41.2393\"\n",
       "    }\n",
       "}\n",
       "```\n",
       "    "
      ],
      "text/plain": [
       "<IPython.core.display.Markdown object>"
      ]
     },
     "execution_count": 3,
     "metadata": {},
     "output_type": "execute_result"
    }
   ],
   "source": [
    "file = np.random.choice(files)\n",
    "with open(file, 'rb') as f:\n",
    "    z = pickle.load(f)\n",
    "\n",
    "Markdown(z['description'])"
   ]
  },
  {
   "cell_type": "code",
   "execution_count": 4,
   "id": "6b4b57fb-f128-412e-a65d-8bd94cb73852",
   "metadata": {},
   "outputs": [
    {
     "data": {
      "text/plain": [
       "('gemini-embedding-001', 'gemini-2.5-pro')"
      ]
     },
     "execution_count": 4,
     "metadata": {},
     "output_type": "execute_result"
    }
   ],
   "source": [
    "z['text_embedding_model'], z['description_model']"
   ]
  },
  {
   "cell_type": "code",
   "execution_count": 5,
   "id": "af54f5c2-5d97-4414-ba52-8a6b7bcf5214",
   "metadata": {},
   "outputs": [
    {
     "name": "stderr",
     "output_type": "stream",
     "text": [
      "\u001b[32m2025-08-10 22:46:05.389\u001b[0m | \u001b[1mINFO    \u001b[0m | \u001b[36mgeoq.gemini\u001b[0m:\u001b[36m__init__\u001b[0m:\u001b[36m115\u001b[0m - \u001b[1musing generation model gemini-2.5-flash-lite\u001b[0m\n",
      "\u001b[32m2025-08-10 22:46:05.390\u001b[0m | \u001b[1mINFO    \u001b[0m | \u001b[36mgeoq.gemini\u001b[0m:\u001b[36m__init__\u001b[0m:\u001b[36m116\u001b[0m - \u001b[1musing embeddings model gemini-embedding-001\u001b[0m\n",
      "\u001b[32m2025-08-10 22:46:05.391\u001b[0m | \u001b[1mINFO    \u001b[0m | \u001b[36mgeoq.gemini\u001b[0m:\u001b[36m__init__\u001b[0m:\u001b[36m117\u001b[0m - \u001b[1musing config {'temperature': 1, 'top_p': 0.95, 'max_output_tokens': 8192, 'response_mime_type': 'text/plain'}\u001b[0m\n"
     ]
    }
   ],
   "source": [
    "gem = gemini.GeminiMultimodalModel(api_key='../../secrets/gemini.txt', verbose=True, generation_model_name='gemini-2.5-flash-lite')\n",
    "emb = gem.get_embedding(z['description'])"
   ]
  },
  {
   "cell_type": "code",
   "execution_count": 6,
   "id": "065a4e53-b4e3-4377-9e91-68840f326a41",
   "metadata": {},
   "outputs": [
    {
     "data": {
      "text/plain": [
       "(array([ 0.00656826,  0.01263861,  0.00414742, ..., -0.0055393 ,\n",
       "        -0.01376249, -0.01900553], shape=(3072,)),\n",
       " array([ 0.00656826,  0.01263861,  0.00414742, ..., -0.0055393 ,\n",
       "        -0.01376249, -0.01900553], shape=(3072,)))"
      ]
     },
     "execution_count": 6,
     "metadata": {},
     "output_type": "execute_result"
    }
   ],
   "source": [
    "emb, z['text_embedding']"
   ]
  },
  {
   "cell_type": "code",
   "execution_count": 7,
   "id": "6794423c-1b48-45ca-9d1d-c93c1cc4996e",
   "metadata": {},
   "outputs": [
    {
     "data": {
      "text/plain": [
       "dict_keys(['chipset_id', 'chip_id', 'season', 'description', 'img', 'geometry', 'image_embedding', 'text_embedding', 'lonlat', 'description_model', 'text_embedding_model'])"
      ]
     },
     "execution_count": 7,
     "metadata": {},
     "output_type": "execute_result"
    }
   ],
   "source": [
    "z.keys()"
   ]
  },
  {
   "cell_type": "markdown",
   "id": "82234eab-dfae-4827-9042-e539d531b680",
   "metadata": {},
   "source": [
    "## Get the embeddings of a single description"
   ]
  },
  {
   "cell_type": "code",
   "execution_count": 8,
   "id": "3875b697-2ef9-4b5c-b944-db7dbc2779f2",
   "metadata": {},
   "outputs": [
    {
     "name": "stderr",
     "output_type": "stream",
     "text": [
      "\u001b[32m2025-08-10 22:46:12.295\u001b[0m | \u001b[1mINFO    \u001b[0m | \u001b[36mgeoq.gemini\u001b[0m:\u001b[36m__init__\u001b[0m:\u001b[36m115\u001b[0m - \u001b[1musing generation model gemini-2.5-flash-lite\u001b[0m\n",
      "\u001b[32m2025-08-10 22:46:12.296\u001b[0m | \u001b[1mINFO    \u001b[0m | \u001b[36mgeoq.gemini\u001b[0m:\u001b[36m__init__\u001b[0m:\u001b[36m116\u001b[0m - \u001b[1musing embeddings model gemini-embedding-001\u001b[0m\n",
      "\u001b[32m2025-08-10 22:46:12.297\u001b[0m | \u001b[1mINFO    \u001b[0m | \u001b[36mgeoq.gemini\u001b[0m:\u001b[36m__init__\u001b[0m:\u001b[36m117\u001b[0m - \u001b[1musing config {'temperature': 1, 'top_p': 0.95, 'max_output_tokens': 8192, 'response_mime_type': 'text/plain'}\u001b[0m\n"
     ]
    }
   ],
   "source": [
    "gem = gemini.GeminiMultimodalModel(api_key='../../secrets/gemini.txt', verbose=True, generation_model_name='gemini-2.5-flash-lite')"
   ]
  },
  {
   "cell_type": "code",
   "execution_count": 36,
   "id": "42deaa72-9d26-42d3-bb62-a140577991ae",
   "metadata": {},
   "outputs": [],
   "source": [
    "def f(file):\n",
    "    with open(file, 'rb') as f:\n",
    "        z = pickle.load(f)    \n",
    "\n",
    "    gem = gemini.GeminiMultimodalModel(api_key='../../secrets/gemini.txt', verbose=False, generation_model_name='gemini-2.5-flash-lite')        \n",
    "    z['text_embedding'] = gem.get_embedding(z['description'])\n",
    "    z['text_embedding_model'] = gem.embeddings_model_name\n",
    "\n",
    "    with open(file, 'wb') as f:\n",
    "        pickle.dump(z, f)"
   ]
  },
  {
   "cell_type": "code",
   "execution_count": 37,
   "id": "9065fd20-b5fe-4484-8863-82620c5b3b38",
   "metadata": {},
   "outputs": [
    {
     "name": "stderr",
     "output_type": "stream",
     "text": [
      "[Parallel(n_jobs=100)]: Using backend LokyBackend with 100 concurrent workers.\n",
      "[Parallel(n_jobs=100)]: Done  88 tasks      | elapsed:    1.6s\n",
      "[Parallel(n_jobs=100)]: Done 250 tasks      | elapsed:    5.7s\n",
      "[Parallel(n_jobs=100)]: Done 448 tasks      | elapsed:   10.7s\n",
      "[Parallel(n_jobs=100)]: Done 682 tasks      | elapsed:   16.8s\n",
      "[Parallel(n_jobs=100)]: Done 952 tasks      | elapsed:   23.6s\n",
      "[Parallel(n_jobs=100)]: Done 1258 tasks      | elapsed:   31.5s\n",
      "[Parallel(n_jobs=100)]: Done 1600 tasks      | elapsed:  1.3min\n",
      "[Parallel(n_jobs=100)]: Done 1978 tasks      | elapsed:  1.5min\n",
      "[Parallel(n_jobs=100)]: Done 2392 tasks      | elapsed:  1.7min\n",
      "[Parallel(n_jobs=100)]: Done 2842 tasks      | elapsed:  2.5min\n",
      "[Parallel(n_jobs=100)]: Done 3328 tasks      | elapsed:  2.7min\n",
      "[Parallel(n_jobs=100)]: Done 3850 tasks      | elapsed:  3.4min\n",
      "[Parallel(n_jobs=100)]: Done 4408 tasks      | elapsed:  3.6min\n",
      "[Parallel(n_jobs=100)]: Done 5002 tasks      | elapsed:  4.5min\n",
      "[Parallel(n_jobs=100)]: Done 5632 tasks      | elapsed:  5.3min\n",
      "[Parallel(n_jobs=100)]: Done 6298 tasks      | elapsed:  5.6min\n",
      "[Parallel(n_jobs=100)]: Done 7000 tasks      | elapsed:  6.5min\n",
      "[Parallel(n_jobs=100)]: Done 7738 tasks      | elapsed:  7.3min\n",
      "[Parallel(n_jobs=100)]: Done 8512 tasks      | elapsed:  8.3min\n",
      "[Parallel(n_jobs=100)]: Done 9322 tasks      | elapsed:  8.6min\n",
      "[Parallel(n_jobs=100)]: Done 10168 tasks      | elapsed:  9.5min\n",
      "[Parallel(n_jobs=100)]: Done 11050 tasks      | elapsed:  9.8min\n",
      "[Parallel(n_jobs=100)]: Done 11968 tasks      | elapsed: 10.5min\n",
      "[Parallel(n_jobs=100)]: Done 12922 tasks      | elapsed: 11.5min\n",
      "[Parallel(n_jobs=100)]: Done 13912 tasks      | elapsed: 11.7min\n",
      "[Parallel(n_jobs=100)]: Done 14938 tasks      | elapsed: 12.5min\n",
      "[Parallel(n_jobs=100)]: Done 16000 tasks      | elapsed: 13.3min\n",
      "[Parallel(n_jobs=100)]: Done 17098 tasks      | elapsed: 13.7min\n",
      "[Parallel(n_jobs=100)]: Done 18232 tasks      | elapsed: 14.6min\n",
      "[Parallel(n_jobs=100)]: Done 19402 tasks      | elapsed: 15.5min\n",
      "[Parallel(n_jobs=100)]: Done 20608 tasks      | elapsed: 16.5min\n",
      "[Parallel(n_jobs=100)]: Done 21850 tasks      | elapsed: 17.4min\n",
      "[Parallel(n_jobs=100)]: Done 23128 tasks      | elapsed: 18.4min\n",
      "[Parallel(n_jobs=100)]: Done 24442 tasks      | elapsed: 19.3min\n",
      "[Parallel(n_jobs=100)]: Done 25792 tasks      | elapsed: 19.7min\n",
      "[Parallel(n_jobs=100)]: Done 27178 tasks      | elapsed: 20.7min\n",
      "[Parallel(n_jobs=100)]: Done 28600 tasks      | elapsed: 21.6min\n",
      "[Parallel(n_jobs=100)]: Done 30058 tasks      | elapsed: 22.7min\n",
      "[Parallel(n_jobs=100)]: Done 31552 tasks      | elapsed: 23.6min\n",
      "[Parallel(n_jobs=100)]: Done 33082 tasks      | elapsed: 24.8min\n",
      "[Parallel(n_jobs=100)]: Done 34648 tasks      | elapsed: 25.7min\n",
      "[Parallel(n_jobs=100)]: Done 36250 tasks      | elapsed: 27.3min\n",
      "[Parallel(n_jobs=100)]: Done 37888 tasks      | elapsed: 28.4min\n",
      "[Parallel(n_jobs=100)]: Done 39562 tasks      | elapsed: 29.4min\n",
      "[Parallel(n_jobs=100)]: Done 41272 tasks      | elapsed: 30.6min\n",
      "[Parallel(n_jobs=100)]: Done 43018 tasks      | elapsed: 31.6min\n",
      "[Parallel(n_jobs=100)]: Done 44800 tasks      | elapsed: 32.7min\n",
      "[Parallel(n_jobs=100)]: Done 46618 tasks      | elapsed: 34.4min\n",
      "[Parallel(n_jobs=100)]: Done 48313 out of 48313 | elapsed: 35.4min finished\n"
     ]
    }
   ],
   "source": [
    "_ = Parallel(n_jobs=100, verbose=5)(delayed(f)(file) for file in files)"
   ]
  },
  {
   "cell_type": "code",
   "execution_count": 20,
   "id": "3b8e3d44-4da5-405c-804c-2a49815425ef",
   "metadata": {},
   "outputs": [
    {
     "data": {
      "text/plain": [
       "array([-0.01055726,  0.01688335, -0.00482449, ...,  0.00298951,\n",
       "       -0.01554386, -0.00740291], shape=(3072,))"
      ]
     },
     "execution_count": 20,
     "metadata": {},
     "output_type": "execute_result"
    }
   ],
   "source": [
    "ze"
   ]
  }
 ],
 "metadata": {
  "kernelspec": {
   "display_name": "lunarlab",
   "language": "python",
   "name": "lunarlab"
  },
  "language_info": {
   "codemirror_mode": {
    "name": "ipython",
    "version": 3
   },
   "file_extension": ".py",
   "mimetype": "text/x-python",
   "name": "python",
   "nbconvert_exporter": "python",
   "pygments_lexer": "ipython3",
   "version": "3.13.5"
  }
 },
 "nbformat": 4,
 "nbformat_minor": 5
}

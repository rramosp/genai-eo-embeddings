{
 "cells": [
  {
   "cell_type": "code",
   "execution_count": 67,
   "id": "ed05da50-422d-4539-bef6-1cfd48683a82",
   "metadata": {},
   "outputs": [],
   "source": [
    "import sys\n",
    "sys.path.append('../src')\n",
    "import pickle\n",
    "import matplotlib.pyplot as plt\n",
    "import geopandas as gpd\n",
    "import pandas as pd\n",
    "from geoembs.clay import wrapper\n",
    "import numpy as np\n",
    "from einops import rearrange, reduce, repeat\n",
    "from glob import glob\n",
    "from tqdm import tqdm"
   ]
  },
  {
   "cell_type": "code",
   "execution_count": 2,
   "id": "7714e3b7-f186-4790-8a96-f1685e4f75cb",
   "metadata": {},
   "outputs": [
    {
     "name": "stderr",
     "output_type": "stream",
     "text": [
      "\u001b[32m2025-08-09 22:52:10.364\u001b[0m | \u001b[1mINFO    \u001b[0m | \u001b[36mgeoembs.clay.wrapper\u001b[0m:\u001b[36m__init__\u001b[0m:\u001b[36m23\u001b[0m - \u001b[1musing device cpu\u001b[0m\n",
      "\u001b[32m2025-08-09 22:52:10.365\u001b[0m | \u001b[1mINFO    \u001b[0m | \u001b[36mgeoembs.clay.wrapper\u001b[0m:\u001b[36m__init__\u001b[0m:\u001b[36m25\u001b[0m - \u001b[1mcreating clay model instance\u001b[0m\n",
      "\u001b[32m2025-08-09 22:52:16.412\u001b[0m | \u001b[1mINFO    \u001b[0m | \u001b[36mgeoembs.clay.wrapper\u001b[0m:\u001b[36m__init__\u001b[0m:\u001b[36m43\u001b[0m - \u001b[1mloading clay model weights\u001b[0m\n",
      "\u001b[32m2025-08-09 22:52:19.719\u001b[0m | \u001b[1mINFO    \u001b[0m | \u001b[36mgeoembs.clay.wrapper\u001b[0m:\u001b[36m__init__\u001b[0m:\u001b[36m53\u001b[0m - \u001b[1mdone\u001b[0m\n"
     ]
    }
   ],
   "source": [
    "METADATA_PATH = '/opt/data/dora/public-data/claymodel-weights/metadata.yaml'\n",
    "CHECKPOINT_PATH = '/opt/data/dora/public-data/claymodel-weights/clay-v1.5.ckpt'\n",
    "cw = wrapper.ClayWrapper(metadata_path=METADATA_PATH, checkpoint_path=CHECKPOINT_PATH)\n"
   ]
  },
  {
   "cell_type": "code",
   "execution_count": 73,
   "id": "194ff8ee-489b-43ec-82c6-7b86152541d2",
   "metadata": {},
   "outputs": [
    {
     "data": {
      "text/plain": [
       "48313"
      ]
     },
     "execution_count": 73,
     "metadata": {},
     "output_type": "execute_result"
    }
   ],
   "source": [
    "chip_files = glob('/opt/data/dora/public-data/chips/*')\n",
    "len(chip_files)\n"
   ]
  },
  {
   "cell_type": "code",
   "execution_count": 74,
   "id": "4b3235e0-534a-4af8-95a5-7b59415727be",
   "metadata": {},
   "outputs": [],
   "source": [
    "batch_size = 32"
   ]
  },
  {
   "cell_type": "code",
   "execution_count": 71,
   "id": "3c972ab8-ddfc-4968-9152-9c7e0a865a31",
   "metadata": {},
   "outputs": [
    {
     "name": "stderr",
     "output_type": "stream",
     "text": [
      "  0%|▎                                                                                                 | 4/1510 [02:33<16:01:03, 38.29s/it]\n"
     ]
    }
   ],
   "source": [
    "embeddings = []\n",
    "for i in tqdm(range(0, len(chip_files), batch_size)):\n",
    "    batch = []\n",
    "    for ii in range(batch_size):\n",
    "        with open(chip_files[i+ii],'rb') as f:\n",
    "            z = pickle.load(f)\n",
    "        batch.append(z['img'])\n",
    "\n",
    "    batch = np.transpose(np.r_[batch], (0,3,1,2))\n",
    "    ez = cw.batch_embeddings(batch)\n",
    "    for ezi in ez:\n",
    "        embeddings.append(ezi)\n",
    "    if i>100: break"
   ]
  },
  {
   "cell_type": "code",
   "execution_count": 72,
   "id": "54258a80-418f-4656-96bf-fe76c808a3e1",
   "metadata": {},
   "outputs": [
    {
     "data": {
      "text/plain": [
       "(160, 1024)"
      ]
     },
     "execution_count": 72,
     "metadata": {},
     "output_type": "execute_result"
    }
   ],
   "source": [
    "np.r_[embeddings].shape"
   ]
  },
  {
   "cell_type": "code",
   "execution_count": 64,
   "id": "62862d3e-1263-4b0d-8c9d-86a780f3ac05",
   "metadata": {},
   "outputs": [
    {
     "name": "stdout",
     "output_type": "stream",
     "text": [
      "[ 90058528  34216827  91212969 120314173  84592517  74429642  73396939\n",
      "  20851505  64020576  75061053  73659522  40884371  64616924  77318217\n",
      "  47537134  66998395  20336354  64159831  62958136  91971426  96902087\n",
      "  75433605  63519561  94922893  88214550  52645729  77736562  85569740\n",
      "  31672188  42330601  77368471  43943355]\n"
     ]
    },
    {
     "data": {
      "text/plain": [
       "tensor([-2.0940, -0.2600,  0.3686,  0.1502, -1.8149,  0.4129, -0.6606,  0.7834,\n",
       "        -1.7922, -1.8825, -0.5208,  0.9091, -0.0886, -0.1744,  1.4948,  0.5986,\n",
       "         1.8730,  0.5982,  1.5070,  4.1215, -1.3377,  1.0378, -1.7397, -1.9013,\n",
       "         1.4988, -1.2506, -1.0428, -1.5863,  0.2216, -0.4533, -1.8834, -1.1162])"
      ]
     },
     "execution_count": 64,
     "metadata": {},
     "output_type": "execute_result"
    }
   ],
   "source": [
    "print (batch.sum(axis=1).sum(axis=1).sum(axis=1))\n",
    "ez = cw.batch_embeddings(batch)\n",
    "ez.sum(axis=1)"
   ]
  },
  {
   "cell_type": "code",
   "execution_count": 65,
   "id": "f10d48fd-09e0-46bf-b018-ad1b2c6bedc7",
   "metadata": {},
   "outputs": [
    {
     "name": "stdout",
     "output_type": "stream",
     "text": [
      "[ 90058528  34216827  91212969 120314173  84592517  74429642  73396939\n",
      "  20851505  64020576  75061053  73659522  40884371  64616924  77318217\n",
      "  47537134  66998395  20336354  64159831  62958136  91971426  96902087\n",
      "  75433605  63519561  94922893  88214550  52645729  77736562  85569740\n",
      "  31672188  42330601  77368471  43943355]\n"
     ]
    },
    {
     "data": {
      "text/plain": [
       "tensor([-1.9631,  0.2696,  0.3447,  0.6884, -1.3312,  0.2243, -0.5542,  0.7926,\n",
       "        -2.1083, -2.2590, -0.3215,  0.7640,  0.0397, -0.0971,  1.4933,  0.7184,\n",
       "         1.9902,  1.1081,  1.4652,  4.2559, -1.4272,  1.2392, -1.6231, -1.6917,\n",
       "         1.8283, -1.3502, -0.8359, -1.6616,  0.1505, -0.3124, -1.8798, -1.3003])"
      ]
     },
     "execution_count": 65,
     "metadata": {},
     "output_type": "execute_result"
    }
   ],
   "source": [
    "print (batch.sum(axis=1).sum(axis=1).sum(axis=1))\n",
    "ez = cw.batch_embeddings(batch)\n",
    "ez.sum(axis=1)"
   ]
  },
  {
   "cell_type": "code",
   "execution_count": 55,
   "id": "bd99ea51-3235-4bfb-8370-fb5814f45611",
   "metadata": {},
   "outputs": [
    {
     "name": "stdout",
     "output_type": "stream",
     "text": [
      "[ 20851505  73396939  74429642  84592517 120314173  91212969  34216827\n",
      "  90058528]\n"
     ]
    },
    {
     "data": {
      "text/plain": [
       "tensor([ 0.3181, -0.6067,  0.1763, -1.6307,  0.2818,  0.8569,  0.0228, -2.3430])"
      ]
     },
     "execution_count": 55,
     "metadata": {},
     "output_type": "execute_result"
    }
   ],
   "source": [
    "_batch = batch[::-1]\n",
    "print (_batch.sum(axis=1).sum(axis=1).sum(axis=1))\n",
    "ez = cw.batch_embeddings(_batch)\n",
    "ez.sum(axis=1)"
   ]
  },
  {
   "cell_type": "code",
   "execution_count": 53,
   "id": "364c4468-1616-4195-bb32-895467752982",
   "metadata": {},
   "outputs": [],
   "source": [
    "ez = cw.batch_embeddings(batch)\n",
    "ez.sum(axis=1)"
   ]
  },
  {
   "cell_type": "code",
   "execution_count": 37,
   "id": "d9345399-bddb-4450-b18a-1c7f82883100",
   "metadata": {},
   "outputs": [
    {
     "data": {
      "text/plain": [
       "torch.Size([8, 1024])"
      ]
     },
     "execution_count": 37,
     "metadata": {},
     "output_type": "execute_result"
    }
   ],
   "source": [
    "ez.shape"
   ]
  },
  {
   "cell_type": "code",
   "execution_count": 38,
   "id": "99b10c6f-9f22-4767-afea-65d6522a1455",
   "metadata": {},
   "outputs": [
    {
     "data": {
      "text/plain": [
       "tensor([ 0.6073, -0.4167,  0.4584, -1.1889,  0.5633,  0.2524, -0.1251, -1.6700])"
      ]
     },
     "execution_count": 38,
     "metadata": {},
     "output_type": "execute_result"
    }
   ],
   "source": [
    "ez.sum(axis=1)"
   ]
  },
  {
   "cell_type": "code",
   "execution_count": 32,
   "id": "ddc2ef66-7ace-4804-b452-5db3c7a3dfe0",
   "metadata": {},
   "outputs": [
    {
     "data": {
      "text/plain": [
       "tensor([-2.2522,  0.2723,  0.3423,  0.3995, -1.4187,  0.2972, -0.7413,  0.7809])"
      ]
     },
     "execution_count": 32,
     "metadata": {},
     "output_type": "execute_result"
    }
   ],
   "source": [
    "ez.sum(axis=1)"
   ]
  },
  {
   "cell_type": "code",
   "execution_count": 26,
   "id": "704ecae7-8d82-479d-ae5f-8ee6dd3f8de1",
   "metadata": {},
   "outputs": [
    {
     "data": {
      "text/plain": [
       "(1, 3, 512, 512)"
      ]
     },
     "execution_count": 26,
     "metadata": {},
     "output_type": "execute_result"
    }
   ],
   "source": [
    "self = cw\n",
    "batch_normalized = np.transpose(\n",
    "    (np.transpose(batch, [0, 2, 3, 1]) - self.means) / self.stds, [0, 3, 1, 2]\n",
    ")\n",
    "batch_normalized.shape"
   ]
  },
  {
   "cell_type": "code",
   "execution_count": 27,
   "id": "2d1e536c-3b43-47b1-9a94-641ae7206047",
   "metadata": {},
   "outputs": [],
   "source": [
    "import torch\n",
    "x = {\n",
    "    \"pixels\": torch.tensor(batch_normalized).type(torch.float),\n",
    "    \"time\": torch.zeros([len(batch_normalized),4]),\n",
    "    \"latlon\": torch.zeros([len(batch_normalized),4]),\n",
    "    \"gsd\": torch.tensor(10.0),\n",
    "    \"waves\": torch.tensor([1552.0, 1355.0, 1105.0]),\n",
    "}  # rgb freqs\n"
   ]
  },
  {
   "cell_type": "code",
   "execution_count": 28,
   "id": "a3fdf39f-2b81-4e74-985e-74336c49ee51",
   "metadata": {},
   "outputs": [],
   "source": [
    "with torch.no_grad():\n",
    "    embeddings_raw, *_ = self.clay_model.model.encoder(x)\n"
   ]
  },
  {
   "cell_type": "code",
   "execution_count": 29,
   "id": "a6a3a627-0689-457b-a4d4-712cc0dbd4a6",
   "metadata": {},
   "outputs": [
    {
     "data": {
      "text/plain": [
       "{'pixels': torch.Size([1, 3, 512, 512]),\n",
       " 'time': torch.Size([1, 4]),\n",
       " 'latlon': torch.Size([1, 4]),\n",
       " 'gsd': torch.Size([]),\n",
       " 'waves': torch.Size([3])}"
      ]
     },
     "execution_count": 29,
     "metadata": {},
     "output_type": "execute_result"
    }
   ],
   "source": [
    "{k:v.shape for k,v in x.items()}"
   ]
  },
  {
   "cell_type": "code",
   "execution_count": 17,
   "id": "64bf6c4f-820e-4878-a682-4805865b93b5",
   "metadata": {},
   "outputs": [
    {
     "data": {
      "text/plain": [
       "torch.Size([4, 1025, 1024])"
      ]
     },
     "execution_count": 17,
     "metadata": {},
     "output_type": "execute_result"
    }
   ],
   "source": [
    "embeddings_raw.shape"
   ]
  },
  {
   "cell_type": "code",
   "execution_count": null,
   "id": "720c0944-4de3-44cd-9d18-39b17e7e86ea",
   "metadata": {},
   "outputs": [],
   "source": []
  },
  {
   "cell_type": "code",
   "execution_count": null,
   "id": "657a84aa-dde9-438a-a008-bbc1fe227072",
   "metadata": {},
   "outputs": [],
   "source": []
  },
  {
   "cell_type": "code",
   "execution_count": 14,
   "id": "6c65628e-5746-439a-a757-53cf321745a1",
   "metadata": {},
   "outputs": [
    {
     "data": {
      "text/html": [
       "<div>\n",
       "<style scoped>\n",
       "    .dataframe tbody tr th:only-of-type {\n",
       "        vertical-align: middle;\n",
       "    }\n",
       "\n",
       "    .dataframe tbody tr th {\n",
       "        vertical-align: top;\n",
       "    }\n",
       "\n",
       "    .dataframe thead th {\n",
       "        text-align: right;\n",
       "    }\n",
       "</style>\n",
       "<table border=\"1\" class=\"dataframe\">\n",
       "  <thead>\n",
       "    <tr style=\"text-align: right;\">\n",
       "      <th></th>\n",
       "      <th>chipset_id</th>\n",
       "      <th>chip_id</th>\n",
       "      <th>season</th>\n",
       "      <th>geometry</th>\n",
       "      <th>lonlat</th>\n",
       "    </tr>\n",
       "  </thead>\n",
       "  <tbody>\n",
       "    <tr>\n",
       "      <th>0</th>\n",
       "      <td>2ebd307bdaafd</td>\n",
       "      <td>00217e53ae025</td>\n",
       "      <td>winter</td>\n",
       "      <td>POLYGON ((23.505 15.42755, 23.505 15.47379, 23...</td>\n",
       "      <td>[23.528842211411103, 15.450666195202487]</td>\n",
       "    </tr>\n",
       "    <tr>\n",
       "      <th>1</th>\n",
       "      <td>356f2efa4e288</td>\n",
       "      <td>305c4716ab785</td>\n",
       "      <td>fall</td>\n",
       "      <td>POLYGON ((54.77138 62.73265, 54.77138 62.77865...</td>\n",
       "      <td>[54.821557935421026, 62.755649953351664]</td>\n",
       "    </tr>\n",
       "    <tr>\n",
       "      <th>2</th>\n",
       "      <td>1db1f5fb2866f</td>\n",
       "      <td>0ac172540e823</td>\n",
       "      <td>fall</td>\n",
       "      <td>POLYGON ((85.51424 26.46238, 85.51424 26.50859...</td>\n",
       "      <td>[85.53991161186431, 26.485483925845262]</td>\n",
       "    </tr>\n",
       "    <tr>\n",
       "      <th>3</th>\n",
       "      <td>16be5dd21ae4c</td>\n",
       "      <td>087a4afcebe35</td>\n",
       "      <td>spring</td>\n",
       "      <td>POLYGON ((147.82412 64.53943, 147.82412 64.585...</td>\n",
       "      <td>[147.8775275593774, 64.562401914625]</td>\n",
       "    </tr>\n",
       "    <tr>\n",
       "      <th>4</th>\n",
       "      <td>268b8065b9d36</td>\n",
       "      <td>1bacb25ff4da4</td>\n",
       "      <td>winter</td>\n",
       "      <td>POLYGON ((0.87037 15.94743, 0.87037 15.99368, ...</td>\n",
       "      <td>[0.8942767029818856, 15.970550853338139]</td>\n",
       "    </tr>\n",
       "  </tbody>\n",
       "</table>\n",
       "</div>"
      ],
      "text/plain": [
       "      chipset_id        chip_id  season  \\\n",
       "0  2ebd307bdaafd  00217e53ae025  winter   \n",
       "1  356f2efa4e288  305c4716ab785    fall   \n",
       "2  1db1f5fb2866f  0ac172540e823    fall   \n",
       "3  16be5dd21ae4c  087a4afcebe35  spring   \n",
       "4  268b8065b9d36  1bacb25ff4da4  winter   \n",
       "\n",
       "                                            geometry  \\\n",
       "0  POLYGON ((23.505 15.42755, 23.505 15.47379, 23...   \n",
       "1  POLYGON ((54.77138 62.73265, 54.77138 62.77865...   \n",
       "2  POLYGON ((85.51424 26.46238, 85.51424 26.50859...   \n",
       "3  POLYGON ((147.82412 64.53943, 147.82412 64.585...   \n",
       "4  POLYGON ((0.87037 15.94743, 0.87037 15.99368, ...   \n",
       "\n",
       "                                     lonlat  \n",
       "0  [23.528842211411103, 15.450666195202487]  \n",
       "1  [54.821557935421026, 62.755649953351664]  \n",
       "2   [85.53991161186431, 26.485483925845262]  \n",
       "3      [147.8775275593774, 64.562401914625]  \n",
       "4  [0.8942767029818856, 15.970550853338139]  "
      ]
     },
     "execution_count": 14,
     "metadata": {},
     "output_type": "execute_result"
    }
   ],
   "source": [
    "z = gpd.read_parquet('/opt/data/dora/public-data/consolidated.parquet')\n",
    "z.head()"
   ]
  },
  {
   "cell_type": "code",
   "execution_count": 15,
   "id": "c919db2a-76ce-4e29-80f5-2f025759a610",
   "metadata": {},
   "outputs": [
    {
     "data": {
      "text/plain": [
       "(48313, 5)"
      ]
     },
     "execution_count": 15,
     "metadata": {},
     "output_type": "execute_result"
    }
   ],
   "source": [
    "z.shape"
   ]
  },
  {
   "cell_type": "code",
   "execution_count": 19,
   "id": "c8b258b7-daaf-4d29-896c-b4b225cd542f",
   "metadata": {},
   "outputs": [],
   "source": [
    "fname = '/opt/data/dora/public-data/chips/00217e53ae025.pkl'\n",
    "with open(fname,'rb') as f:\n",
    "    z = pickle.load(f)"
   ]
  },
  {
   "cell_type": "code",
   "execution_count": 18,
   "id": "9b303764-f8ab-4e94-b947-6b61953f4b52",
   "metadata": {},
   "outputs": [
    {
     "data": {
      "text/plain": [
       "dict_keys(['chipset_id', 'chip_id', 'season', 'description', 'img', 'geometry', 'image_embedding', 'text_embedding', 'lonlat'])"
      ]
     },
     "execution_count": 18,
     "metadata": {},
     "output_type": "execute_result"
    }
   ],
   "source": [
    "z.keys()"
   ]
  },
  {
   "cell_type": "code",
   "execution_count": 11,
   "id": "6f7b4d9c-6fe3-4307-9d55-5c0c8c8e3989",
   "metadata": {},
   "outputs": [
    {
     "data": {
      "text/plain": [
       "((512, 512, 3),\n",
       " (1024,),\n",
       " (1024,),\n",
       " (23.528842211411103, 15.450666195202487),\n",
       " 'winter')"
      ]
     },
     "execution_count": 11,
     "metadata": {},
     "output_type": "execute_result"
    }
   ],
   "source": [
    "z['img'].shape, z['image_embedding'].shape, z['text_embedding'].shape, z['lonlat'], z['season']"
   ]
  },
  {
   "cell_type": "code",
   "execution_count": 9,
   "id": "2d4c0bf6-c448-4e4f-80dd-48626dc98ff4",
   "metadata": {},
   "outputs": [
    {
     "data": {
      "image/svg+xml": [
       "<svg xmlns=\"http://www.w3.org/2000/svg\" xmlns:xlink=\"http://www.w3.org/1999/xlink\" width=\"100.0\" height=\"100.0\" viewBox=\"23.50309687619016 15.425638502156929 0.051490670441886266 0.05005538609111326\" preserveAspectRatio=\"xMinYMin meet\"><g transform=\"matrix(1,0,0,-1,0,30.90133239040497)\"><path fill-rule=\"evenodd\" fill=\"#66cc99\" stroke=\"#555555\" stroke-width=\"0.0010298134088377253\" opacity=\"0.6\" d=\"M 23.505003938058376,15.427545564025147 L 23.505003938058376,15.473786826379824 L 23.55268048476383,15.473786826379824 L 23.55268048476383,15.427545564025147 L 23.505003938058376,15.427545564025147 z\" /></g></svg>"
      ],
      "text/plain": [
       "<POLYGON ((23.505 15.428, 23.505 15.474, 23.553 15.474, 23.553 15.428, 23.50...>"
      ]
     },
     "execution_count": 9,
     "metadata": {},
     "output_type": "execute_result"
    }
   ],
   "source": [
    "z['geometry']"
   ]
  },
  {
   "cell_type": "code",
   "execution_count": 4,
   "id": "4cd845b0-0005-4d59-ab91-51b79422a804",
   "metadata": {},
   "outputs": [
    {
     "name": "stdout",
     "output_type": "stream",
     "text": [
      "This satellite image depicts a predominantly arid or semi-arid landscape with a complex network of geological and hydrological features.  The overall color palette is dominated by reddish-brown hues, suggesting exposed soil and rock.\n",
      "\n",
      "**Terrain:**\n",
      "\n",
      "* **Feature Type:** Dissected plateau/hills\n",
      "* **Location:** Across the entire image.\n",
      "* **Size/Extent:** Covers the entire image.\n",
      "* **Shape and Visual Attributes:** Gently rolling topography with numerous small, incised valleys and ridges.  The terrain appears heavily eroded, with a textured appearance.  Color varies from light reddish-brown in flatter areas to darker reddish-brown on slopes and ridges.\n",
      "* **Spatial Relationships:** The terrain forms the base upon which all other features are situated.  Drainage channels are incised into the plateau.\n",
      "\n",
      "* **Feature Type:** Small mesas/buttes (isolated, flat-topped hills)\n",
      "* **Location:** Several scattered throughout the image, most prominently in the northeast quadrant.\n",
      "* **Size/Extent:** Small to medium, ranging from a few pixels to perhaps hundreds of meters across based on the image scale (which is unknown).\n",
      "* **Shape and Visual Attributes:** Flat-topped with steep sides, similar in color and texture to the surrounding plateau but slightly darker in some cases.\n",
      "* **Spatial Relationships:** Rise above the general plateau level.\n",
      "\n",
      "**Hydrology:**\n",
      "\n",
      "* **Feature Type:** Drainage channels/dry riverbeds\n",
      "* **Location:** Extensive network throughout the image. A prominent channel extends from the northwest corner towards the center, branching into smaller tributaries.\n",
      "* **Size/Extent:** Varies from thin, almost hairline-like channels to wider, more defined valleys.\n",
      "* **Shape and Visual Attributes:**  Generally linear to slightly meandering, with some braided sections.  Appear lighter in color than the surrounding terrain, possibly due to sediment deposits or different rock types.\n",
      "* **Spatial Relationships:** Incised into the plateau, forming a dendritic (tree-like) drainage pattern.\n",
      "\n",
      "**Other Features:**\n",
      "\n",
      "* **Feature Type:** Darker geological features\n",
      "* **Location:** Concentrated primarily in the central and southeastern portions of the image.\n",
      "* **Size/Extent:** Irregular patches ranging from small to relatively large (covering several square kilometers, estimated).\n",
      "* **Shape and Visual Attributes:** Darker, brownish-black color. Irregular, sometimes angular shapes. Some areas appear to be associated with ridges or elevated terrain.\n",
      "* **Spatial Relationships:** Appear to be overlaid on or embedded within the existing terrain.\n",
      "\n",
      "* **Feature Type:** Small, circular depressions\n",
      "* **Location:** Scattered throughout, notably near the center-left and in the west.\n",
      "* **Size/Extent:** Small, generally circular or oval, a few pixels to tens of meters across (estimated).\n",
      "* **Shape and Visual Attributes:** Appear slightly lighter or darker than the surrounding terrain, creating subtle circular or oval patterns.\n",
      "* **Spatial Relationships:** Often found in close proximity to the drainage channels.  Could be sinkholes or other geological formations.\n",
      "\n",
      "**Absence of Features:** There is no visible evidence of human activity (roads, buildings, agriculture) or large bodies of water in this image. This strongly suggests a remote, sparsely populated, and arid environment.\n",
      "\n",
      "\n",
      "This detailed description aims to provide a comprehensive visual fingerprint of the image, facilitating its retrieval based on text-based queries.  Quantitative estimations of size are limited due to the absence of a scale bar.\n",
      "\n",
      "This is the geographical location and extent of this satellite image\n",
      "\n",
      "<location>\n",
      "\t<plus_code>7G75FG2H+7G</plus_code>\n",
      "\t<coords>\n",
      "\t\t<lon>23.5288</lon>\n",
      "\t\t<lat>15.4507</lat>\n",
      "\t</coords>\n",
      "\t<size>\n",
      "\t\t<width_in_km>5.12</width_in_km>\n",
      "\t\t<height_in_km>5.12</height_in_km>\n",
      "\t</size>\n",
      "</location>\n",
      "\n"
     ]
    }
   ],
   "source": [
    "print (z['description'])"
   ]
  },
  {
   "cell_type": "code",
   "execution_count": null,
   "id": "1c172dce-d0ac-48eb-a072-024398122725",
   "metadata": {},
   "outputs": [],
   "source": []
  }
 ],
 "metadata": {
  "kernelspec": {
   "display_name": "p313",
   "language": "python",
   "name": "p313"
  },
  "language_info": {
   "codemirror_mode": {
    "name": "ipython",
    "version": 3
   },
   "file_extension": ".py",
   "mimetype": "text/x-python",
   "name": "python",
   "nbconvert_exporter": "python",
   "pygments_lexer": "ipython3",
   "version": "3.13.5"
  }
 },
 "nbformat": 4,
 "nbformat_minor": 5
}
